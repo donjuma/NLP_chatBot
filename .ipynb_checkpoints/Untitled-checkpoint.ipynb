{
 "cells": [
  {
   "cell_type": "code",
   "execution_count": null,
   "metadata": {
    "collapsed": true
   },
   "outputs": [],
   "source": [
    "import nltk\n",
    "from random import shuffle\n",
    "from sklearn.svm import LinearSVC\n",
    "from nltk.classify.scikitlearn import SklearnClassifier\n",
    "from sklearn.metrics import classification_report\n",
    "\n",
    "def dialogue_act_features(sentence):\n",
    "    \"\"\"\n",
    "        Extracts a set of features from a message.\n",
    "    \"\"\"\n",
    "    features = {}\n",
    "    tokens = nltk.word_tokenize(sentence)\n",
    "    for t in tokens:\n",
    "        features['contains(%s)' % t.lower()] = True\n",
    "    return features\n",
    "\n",
    "# data structure representing the XML annotation for each post\n",
    "posts = nltk.corpus.nps_chat.xml_posts()\n",
    "# label set\n",
    "cls_set = ['Emotion', 'ynQuestion', 'yAnswer', 'Continuer',\n",
    "'whQuestion', 'System', 'Accept', 'Clarify', 'Emphasis',\n",
    "'nAnswer', 'Greet', 'Statement', 'Reject', 'Bye', 'Other']\n",
    "featuresets = [] # list of tuples of the form (post, features)\n",
    "for post in posts:\n",
    "    featuresets.append((dialogue_act_features(post.text),cls_set.index(post.get('class'))))\n",
    "\n",
    "shuffle(featuresets)\n",
    "size = int(len(featuresets) * .2) # 10% is used for the test set\n",
    "train = featuresets[size:]\n",
    "test = featuresets[:size]\n",
    "\n",
    "classif = SklearnClassifier(LinearSVC())\n",
    "classif.train(train)\n",
    "\n",
    "test_skl = []\n",
    "t_test_skl = []\n",
    "for d in test:\n",
    "    test_skl.append(d[0])\n",
    "    t_test_skl.append(d[1])\n",
    "\n",
    "# run the classifier on the train test\n",
    "#p = classif.batch_classify(test_skl)\n",
    "p = classif.classify_many(test_skl)\n",
    "# getting a full report\n",
    "print (classification_report(t_test_skl, p, labels=list(set(t_test_skl)),target_names=cls_set))\n",
    "\n"
   ]
  }
 ],
 "metadata": {
  "kernelspec": {
   "display_name": "Python 2",
   "language": "python",
   "name": "python2"
  },
  "language_info": {
   "codemirror_mode": {
    "name": "ipython",
    "version": 2
   },
   "file_extension": ".py",
   "mimetype": "text/x-python",
   "name": "python",
   "nbconvert_exporter": "python",
   "pygments_lexer": "ipython2",
   "version": "2.7.11"
  }
 },
 "nbformat": 4,
 "nbformat_minor": 0
}
